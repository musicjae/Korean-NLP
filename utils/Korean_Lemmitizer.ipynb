{
  "nbformat": 4,
  "nbformat_minor": 0,
  "metadata": {
    "colab": {
      "name": "Korean Lemmitizer.ipynb",
      "provenance": [],
      "authorship_tag": "ABX9TyPag0Zqp15MSQ1gmTfIGTzS",
      "include_colab_link": true
    },
    "kernelspec": {
      "name": "python3",
      "display_name": "Python 3"
    }
  },
  "cells": [
    {
      "cell_type": "markdown",
      "metadata": {
        "id": "view-in-github",
        "colab_type": "text"
      },
      "source": [
        "<a href=\"https://colab.research.google.com/github/musicjae/Korean-NLP/blob/main/utils/Korean_Lemmitizer.ipynb\" target=\"_parent\"><img src=\"https://colab.research.google.com/assets/colab-badge.svg\" alt=\"Open In Colab\"/></a>"
      ]
    },
    {
      "cell_type": "code",
      "metadata": {
        "colab": {
          "base_uri": "https://localhost:8080/"
        },
        "id": "Sq6U6eumW9jg",
        "outputId": "1c09849b-1955-4155-fe51-e01a21872c86"
      },
      "source": [
        "!git clone https://github.com/lovit/korean_lemmatizer.git"
      ],
      "execution_count": 1,
      "outputs": [
        {
          "output_type": "stream",
          "text": [
            "Cloning into 'korean_lemmatizer'...\n",
            "remote: Enumerating objects: 214, done.\u001b[K\n",
            "remote: Total 214 (delta 0), reused 0 (delta 0), pack-reused 214\u001b[K\n",
            "Receiving objects: 100% (214/214), 20.64 MiB | 41.60 MiB/s, done.\n",
            "Resolving deltas: 100% (119/119), done.\n"
          ],
          "name": "stdout"
        }
      ]
    },
    {
      "cell_type": "code",
      "metadata": {
        "colab": {
          "base_uri": "https://localhost:8080/"
        },
        "id": "uP4mjHbDXOGx",
        "outputId": "1ef2b08f-07e2-4599-b9e3-e9cd70316fff"
      },
      "source": [
        "!pip install konlpy"
      ],
      "execution_count": 7,
      "outputs": [
        {
          "output_type": "stream",
          "text": [
            "Collecting konlpy\n",
            "\u001b[?25l  Downloading https://files.pythonhosted.org/packages/85/0e/f385566fec837c0b83f216b2da65db9997b35dd675e107752005b7d392b1/konlpy-0.5.2-py2.py3-none-any.whl (19.4MB)\n",
            "\u001b[K     |████████████████████████████████| 19.4MB 1.7MB/s \n",
            "\u001b[?25hRequirement already satisfied: lxml>=4.1.0 in /usr/local/lib/python3.7/dist-packages (from konlpy) (4.2.6)\n",
            "Collecting JPype1>=0.7.0\n",
            "\u001b[?25l  Downloading https://files.pythonhosted.org/packages/cd/a5/9781e2ef4ca92d09912c4794642c1653aea7607f473e156cf4d423a881a1/JPype1-1.2.1-cp37-cp37m-manylinux2010_x86_64.whl (457kB)\n",
            "\u001b[K     |████████████████████████████████| 460kB 44.4MB/s \n",
            "\u001b[?25hRequirement already satisfied: numpy>=1.6 in /usr/local/lib/python3.7/dist-packages (from konlpy) (1.19.5)\n",
            "Collecting colorama\n",
            "  Downloading https://files.pythonhosted.org/packages/44/98/5b86278fbbf250d239ae0ecb724f8572af1c91f4a11edf4d36a206189440/colorama-0.4.4-py2.py3-none-any.whl\n",
            "Collecting beautifulsoup4==4.6.0\n",
            "\u001b[?25l  Downloading https://files.pythonhosted.org/packages/9e/d4/10f46e5cfac773e22707237bfcd51bbffeaf0a576b0a847ec7ab15bd7ace/beautifulsoup4-4.6.0-py3-none-any.whl (86kB)\n",
            "\u001b[K     |████████████████████████████████| 92kB 9.5MB/s \n",
            "\u001b[?25hRequirement already satisfied: tweepy>=3.7.0 in /usr/local/lib/python3.7/dist-packages (from konlpy) (3.10.0)\n",
            "Requirement already satisfied: typing-extensions; python_version < \"3.8\" in /usr/local/lib/python3.7/dist-packages (from JPype1>=0.7.0->konlpy) (3.7.4.3)\n",
            "Requirement already satisfied: six>=1.10.0 in /usr/local/lib/python3.7/dist-packages (from tweepy>=3.7.0->konlpy) (1.15.0)\n",
            "Requirement already satisfied: requests[socks]>=2.11.1 in /usr/local/lib/python3.7/dist-packages (from tweepy>=3.7.0->konlpy) (2.23.0)\n",
            "Requirement already satisfied: requests-oauthlib>=0.7.0 in /usr/local/lib/python3.7/dist-packages (from tweepy>=3.7.0->konlpy) (1.3.0)\n",
            "Requirement already satisfied: chardet<4,>=3.0.2 in /usr/local/lib/python3.7/dist-packages (from requests[socks]>=2.11.1->tweepy>=3.7.0->konlpy) (3.0.4)\n",
            "Requirement already satisfied: idna<3,>=2.5 in /usr/local/lib/python3.7/dist-packages (from requests[socks]>=2.11.1->tweepy>=3.7.0->konlpy) (2.10)\n",
            "Requirement already satisfied: certifi>=2017.4.17 in /usr/local/lib/python3.7/dist-packages (from requests[socks]>=2.11.1->tweepy>=3.7.0->konlpy) (2020.12.5)\n",
            "Requirement already satisfied: urllib3!=1.25.0,!=1.25.1,<1.26,>=1.21.1 in /usr/local/lib/python3.7/dist-packages (from requests[socks]>=2.11.1->tweepy>=3.7.0->konlpy) (1.24.3)\n",
            "Requirement already satisfied: PySocks!=1.5.7,>=1.5.6; extra == \"socks\" in /usr/local/lib/python3.7/dist-packages (from requests[socks]>=2.11.1->tweepy>=3.7.0->konlpy) (1.7.1)\n",
            "Requirement already satisfied: oauthlib>=3.0.0 in /usr/local/lib/python3.7/dist-packages (from requests-oauthlib>=0.7.0->tweepy>=3.7.0->konlpy) (3.1.0)\n",
            "Installing collected packages: JPype1, colorama, beautifulsoup4, konlpy\n",
            "  Found existing installation: beautifulsoup4 4.6.3\n",
            "    Uninstalling beautifulsoup4-4.6.3:\n",
            "      Successfully uninstalled beautifulsoup4-4.6.3\n",
            "Successfully installed JPype1-1.2.1 beautifulsoup4-4.6.0 colorama-0.4.4 konlpy-0.5.2\n"
          ],
          "name": "stdout"
        }
      ]
    },
    {
      "cell_type": "code",
      "metadata": {
        "colab": {
          "base_uri": "https://localhost:8080/"
        },
        "id": "cr4WCLbjXLy6",
        "outputId": "ac89ee59-d936-4956-9201-5b885deadf09"
      },
      "source": [
        "from korean_lemmatizer.soylemma import Lemmatizer\r\n",
        "from konlpy.tag import Okt\r\n",
        "\r\n",
        "lemmatizer = Lemmatizer()\r\n",
        "lemmatizer.analyze('차가우니까')"
      ],
      "execution_count": 31,
      "outputs": [
        {
          "output_type": "execute_result",
          "data": {
            "text/plain": [
              "[(('차갑', 'Adjective'), ('으니까', 'Eomi'))]"
            ]
          },
          "metadata": {
            "tags": []
          },
          "execution_count": 31
        }
      ]
    },
    {
      "cell_type": "code",
      "metadata": {
        "colab": {
          "base_uri": "https://localhost:8080/"
        },
        "id": "er-pQX_qXVE7",
        "outputId": "4c0e55d0-0ea5-484c-af64-8ef85002850f"
      },
      "source": [
        "tok = Okt()\r\n",
        "\r\n",
        "new = \"\"\"2일 교육부에 따르면 새학기 개학부터 유치원생과 초등 1~2학년, 고3, 특수학교, 소규모학교의 매일 등교가 가능해 진다.\r\n",
        "특히 유치원생과 초등 1~2학년은 교육부의 학교 밀집도 기준에서 제외된다. \r\n",
        "이렇게 되면 거리두기 2단계까지는 유치원생과 초등 1~2학년의 매일 등교가 가능해진다. \r\n",
        "앞서 정부는 지난달 26일 수도권 2단계, 비수도권 1.5단계를 2주간 더 연장하기로 했다.\r\n",
        "초등 1~2학년이 밀집도 제한 조치에서 제외되기 때문에 3~6학년의 등교수업도 확대된다. \r\n",
        "학교 밀집도 기준은 전교생 중 등교 가능한 인원을 제시한 교육부 지침이다. \r\n",
        "예컨대 1~2학년생이 300명이고 6학년까지의 전교생이 900명인 학교는 거리두기 2단계 시 3분의 1인 300명만 등교가 가능했다. \r\n",
        "하지만 올해부터는 1~2학년(300명)이 적용대상에서 제외되기에 3~6학년의 등교수업도 늘어난다. \r\n",
        "거리두기 2단계란 같은 조건에서 이 학교의 등교 인원은 종전 300명에서 500명까지 확대된다.\r\n",
        "대입을 앞둔 고3의 경우도 2단계까지는 매일 등교가 가능하다. 고등학교는 현행 학교 밀집도 기준을 완화 적용받는데다 고3의 경우 탄력적 학사운영에 따라 우선 등교 대상이 되기 때문이다.\r\n",
        "소규모학교와 특수학교·농어촌학교는 지역별 코로나 전파 상황에 따라 2.5단계까진 등교 여부를 자율 결정할 수 있게 된다. \r\n",
        "교육부 관계자는 “거리두기 단계 지침이 광역 지자체 단위로 내려지기에 소도시의 경우 상대적으로 안전한 경우가 있는데 이럴 땐 교육지원청과 협의해 학교 단위로 등교 여부를 결정할 수 있다”고 말했다.\r\n",
        "올해부터는 소규모 학교 기준도 완화했다. 이 때문에 전체의 47%가 거리두기 2.5단계까지는 매일 등교가 가능해진다. \r\n",
        "지난해까지는 학생 수 300명 이하의 학교만 소규모 학교로 인정했지만, 올해부터는 400명 이하이면서 학급 당 25명을 넘지 않으면 소규모 학교에 포함된다. \r\n",
        "이 기준을 적용할 경우 전국적으로 소규모학교 수는 종전 4500여개에서 올해 5567개교로 전체 초중고(1만1787개교) 중 47.2%로 늘어난다.\"\"\"\r\n",
        "\r\n",
        "lists=[]\r\n",
        "\r\n",
        "for sen in new.split('.'):\r\n",
        "    if sen is not '':\r\n",
        "        tmp = tok.morphs(sen)[0]\r\n",
        "        word = lemmatizer.lemmatize(tmp)\r\n",
        "        if len(word) != 0:\r\n",
        "            lists.append((word[0][0]))\r\n",
        "\r\n",
        "for w in lists:\r\n",
        "    list(filter(None, w))\r\n",
        "\r\n",
        "print(lists)"
      ],
      "execution_count": 68,
      "outputs": [
        {
          "output_type": "stream",
          "text": [
            "['이렇다', '앞서다', '하다', '거리다', '지나다']\n"
          ],
          "name": "stdout"
        }
      ]
    }
  ]
}