{
  "nbformat": 4,
  "nbformat_minor": 0,
  "metadata": {
    "colab": {
      "name": "KR-WordRank.ipynb",
      "provenance": [],
      "authorship_tag": "ABX9TyNm7YvcS0S0QJC/h71RQxBF",
      "include_colab_link": true
    },
    "kernelspec": {
      "name": "python3",
      "display_name": "Python 3"
    }
  },
  "cells": [
    {
      "cell_type": "markdown",
      "metadata": {
        "id": "view-in-github",
        "colab_type": "text"
      },
      "source": [
        "<a href=\"https://colab.research.google.com/github/musicjae/Korean-NLP/blob/main/utils/KR_WordRank.ipynb\" target=\"_parent\"><img src=\"https://colab.research.google.com/assets/colab-badge.svg\" alt=\"Open In Colab\"/></a>"
      ]
    },
    {
      "cell_type": "markdown",
      "metadata": {
        "id": "SxkutEwTwUNO"
      },
      "source": [
        "# Reference  \r\n",
        "[1] https://data.korea.ac.kr/?p=4214"
      ]
    },
    {
      "cell_type": "code",
      "metadata": {
        "colab": {
          "base_uri": "https://localhost:8080/"
        },
        "id": "lb6LElJwthWE",
        "outputId": "0e167933-324c-406a-86e7-860eb81e5f46"
      },
      "source": [
        "!pip install krwordrank\r\n",
        "!pip install soynlp"
      ],
      "execution_count": 2,
      "outputs": [
        {
          "output_type": "stream",
          "text": [
            "Requirement already satisfied: krwordrank in /usr/local/lib/python3.7/dist-packages (1.0.3)\n",
            "Requirement already satisfied: scikit-learn>=0.22.1 in /usr/local/lib/python3.7/dist-packages (from krwordrank) (0.22.2.post1)\n",
            "Requirement already satisfied: scipy>=1.4.1 in /usr/local/lib/python3.7/dist-packages (from krwordrank) (1.4.1)\n",
            "Requirement already satisfied: numpy>=1.18.4 in /usr/local/lib/python3.7/dist-packages (from krwordrank) (1.19.5)\n",
            "Requirement already satisfied: joblib>=0.11 in /usr/local/lib/python3.7/dist-packages (from scikit-learn>=0.22.1->krwordrank) (1.0.1)\n",
            "Collecting soynlp\n",
            "\u001b[?25l  Downloading https://files.pythonhosted.org/packages/7e/50/6913dc52a86a6b189419e59f9eef1b8d599cffb6f44f7bb91854165fc603/soynlp-0.0.493-py3-none-any.whl (416kB)\n",
            "\u001b[K     |████████████████████████████████| 419kB 8.2MB/s \n",
            "\u001b[?25hRequirement already satisfied: scipy>=1.1.0 in /usr/local/lib/python3.7/dist-packages (from soynlp) (1.4.1)\n",
            "Requirement already satisfied: scikit-learn>=0.20.0 in /usr/local/lib/python3.7/dist-packages (from soynlp) (0.22.2.post1)\n",
            "Requirement already satisfied: numpy>=1.12.1 in /usr/local/lib/python3.7/dist-packages (from soynlp) (1.19.5)\n",
            "Requirement already satisfied: psutil>=5.0.1 in /usr/local/lib/python3.7/dist-packages (from soynlp) (5.4.8)\n",
            "Requirement already satisfied: joblib>=0.11 in /usr/local/lib/python3.7/dist-packages (from scikit-learn>=0.20.0->soynlp) (1.0.1)\n",
            "Installing collected packages: soynlp\n",
            "Successfully installed soynlp-0.0.493\n"
          ],
          "name": "stdout"
        }
      ]
    },
    {
      "cell_type": "code",
      "metadata": {
        "colab": {
          "base_uri": "https://localhost:8080/"
        },
        "id": "N2NAYPQAuPA-",
        "outputId": "92042fb5-5c6a-45e6-fc87-345ab3851f5f"
      },
      "source": [
        "from google.colab import drive\r\n",
        "drive.mount('/content/drive')"
      ],
      "execution_count": 3,
      "outputs": [
        {
          "output_type": "stream",
          "text": [
            "Mounted at /content/drive\n"
          ],
          "name": "stdout"
        }
      ]
    },
    {
      "cell_type": "code",
      "metadata": {
        "id": "8QVYcUakuZ1h"
      },
      "source": [
        "import pandas as pd\r\n",
        "from krwordrank.word import KRWordRank\r\n"
      ],
      "execution_count": 4,
      "outputs": []
    },
    {
      "cell_type": "code",
      "metadata": {
        "colab": {
          "base_uri": "https://localhost:8080/"
        },
        "id": "Tfy9CXpMuVxt",
        "outputId": "eaf2ec6f-f88c-4156-bb68-32143e524572"
      },
      "source": [
        "news = '/content/drive/MyDrive/Colab_Notebooks/JJY/notes/한국어 nlp/dataset/news.txt'\r\n",
        "news = pd.read_csv(news,delimiter='\\t')\r\n",
        "print(news.head(2))\r\n",
        "print(news.columns)\r\n",
        "news = news[['title','header','contents']]\r\n",
        "print(news.head(2))"
      ],
      "execution_count": 10,
      "outputs": [
        {
          "output_type": "stream",
          "text": [
            "                                          title  ...                                           contents\n",
            "0        [에세이] 장난감 사냥하다 당황한 맹수 꿈나무 고양이 \"오디 갔지?\"  ...   [노트펫] 고양이 '찐빵이'는 덩치는 작지만 자신을 아주 무서운 맹수라고 믿고 있...\n",
            "1  [에세이] 냥이에게 하이파이브 요청했다 '심쿵'한 집사..\"머리꿍은 덤이다옹!\"  ...   [노트펫] 집사가 하이파이브를 요청하자 고양이는 사랑을 듬뿍 담아 머리꿍과 하이파...\n",
            "\n",
            "[2 rows x 5 columns]\n",
            "Index(['title', 'url', 'date', 'header', 'contents'], dtype='object')\n",
            "                                          title  ...                                           contents\n",
            "0        [에세이] 장난감 사냥하다 당황한 맹수 꿈나무 고양이 \"오디 갔지?\"  ...   [노트펫] 고양이 '찐빵이'는 덩치는 작지만 자신을 아주 무서운 맹수라고 믿고 있...\n",
            "1  [에세이] 냥이에게 하이파이브 요청했다 '심쿵'한 집사..\"머리꿍은 덤이다옹!\"  ...   [노트펫] 집사가 하이파이브를 요청하자 고양이는 사랑을 듬뿍 담아 머리꿍과 하이파...\n",
            "\n",
            "[2 rows x 3 columns]\n"
          ],
          "name": "stdout"
        }
      ]
    },
    {
      "cell_type": "code",
      "metadata": {
        "colab": {
          "base_uri": "https://localhost:8080/"
        },
        "id": "wq4OrifItuVO",
        "outputId": "ac447d25-8ff7-4ae2-ad53-311a4ef2725d"
      },
      "source": [
        "from krwordrank.word import KRWordRank\r\n",
        "from krwordrank.hangle import normalize\r\n",
        "\r\n",
        "texts = news.contents\r\n",
        "texts = [normalize(text,english=False,number=True) for text in texts]\r\n",
        "print(texts[:3])"
      ],
      "execution_count": 19,
      "outputs": [
        {
          "output_type": "stream",
          "text": [
            "['노트펫 고양이 찐빵이 는 덩치는 작지만 자신을 아주 무서운 맹수라고 믿고 있다 그래서 사냥놀이를 할 때면 수풀 뒤에 숨어 있다가 사냥감을 덮치는 맹수처럼 어딘가에 숨어 있다가 장난감을 덮치곤 했다', '노트펫 집사가 하이파이브를 요청하자 고양이는 사랑을 듬뿍 담아 머리꿍과 하이파이브를 연달아 해줬다 뜻밖의 애정표현에 집사는 심쿵 했다 최근 집사 지영 씨는 고양이 피망이 와 함께 부드럽고 푹신한 러그 위에 누워 뒹굴뒹굴하며 여유로운 한때를 보냈다 한참 휴식을 취하던 피망이는 갑자기 집사 앞에 앉더니 눈을 껌뻑껌뻑 거렸다 뭔가 할 말이 있는 듯 보였다 갑작스러운 행동에 호기심이 생긴 지영 씨는 피망이를 빤히 쳐다보다가 하이파이브를 요청했다 그러자 피망이는 집사의 손에 머리꿍 한 번 하이파이브 한 번을 해줬다 당장이라도 꿀이 뚝뚝 떨어질 것 같은 눈빛으로 집사를 쳐다보며 머리꿍과 하이파이브를 연달아 해주는 피망이 이런 피망이의 폭풍 애교에 지영 씨의 입가에서는 웃음이 떠나질 않았다 지영 씨는 피망이는 평소 간식 먹기 전에는 하이파이브를 하고 자기 전에는 잠투정처럼 머리 콩을 해요 라며 이 날은 졸린데 간식도 먹고 싶었는지 둘 다 시전했어요 라고 설명했다 올해로 7살이 된 피망이는 남들이 봤을 때는 새침한 고양이지만 지영 씨에게는 한없이 애교를 부리는 순둥이란다 어린 시절 몇 번이나 파양을 당하다 7개월 차에 접어들어 지영 씨를 만난 피망이 파양의 아픔으로 마음의 문을 쉽게 열지 못할까 걱정이 됐지만 금세 가족들에게 마음을 열고 새 집에 적응을 했단다 그렇게 가족이 된 피망이는 남 집사 신발을 물어뜯는 취미생활과 집사들만 보면 발라당 눕는 특기를 선보이며 즐거운 나날을 보내고 있다 기억에 남는 일화가 있냐는 질문에 지영 씨는 피망이가 아팠을 때를 떠올렸다 아주 어렸을 때 피망이가 갑자기 몸이 안 좋아져 회사도 쉬고 피망이를 정성껏 간호해 줬다는 지영 씨 이런 집사의 사랑에 감동을 받았는지 피망이는 완쾌 후 계속 품에 안기고 눈 뽀뽀 코 뽀뽀를 하며 무한 애정 표현을 해줬다 그때만 떠올리면 지영 씨는 지금도 마음이 뭉클하단다 피망이에게 해주고 싶은 말이 있냐는 질문에 지영 씨는 항상 고마운 피망아 아프지 말고 건강하게 오래오래 행복하자 라며 소중한 피망이 정말 많이 사랑해 라고 애틋한 마음을 전했다', '노트펫 초등학교 운동장 축구 골대 그물에 목이 감겨 의식을 잃은 고양이가 소방관들의 빠른 대처로 목숨을 구했다 지난 15일 대한민국 소방청 공식 페이스북에 한 편의 영상이 게재됐다 공개된 영상 속에는 고양이에게 심폐소생술을 하는 구조대원들의 모습이 담겼다 대한민국 소방청 페이스북 게시글에 따르면 지난 7일 오전 9시 52분 119 상황실에 고양이가 축구 골대 그물에 끼어있다 는 전화가 걸려왔다 신고를 받고 반월초등학교로 출동한 논산소방서 구조대원들은 운동장 축구 골대 그물에 갇힌 고양이를 발견했다 구조대원들은 그물을 잘라 고양이를 구조하려 다가갔지만 겁먹은 고양이는 발버둥 치며 저항했다 그 바람에 목에 그물이 더 감기며 고양이는 결국 의식까지 잃게 됐다 대원들은 서둘러 고양이의 목에 감긴 줄을 제거한 후 심폐소생술을 시작했고 몇 분 지나지 않아 고양이는 의식을 회복했다 고양이가 숨을 쉬는 모습을 보자 대원들은 안도하며 한마음으로 기뻐했다 의식을 차린 고양이는 감사 인사라도 하듯 대원들을 빤히 바라보는 모습이다 당시 현장에 출동한 논산소방서 조상우 소방사는 큰 생명이든 작은 생명이든 구해야 하는 상황이면 저희가 최선을 다해야 하는 것 이라며 고양이가 잘 살고 위험한데 들어가지 않고 그랬으면 좋겠다 고 전했다']\n"
          ],
          "name": "stdout"
        }
      ]
    },
    {
      "cell_type": "code",
      "metadata": {
        "colab": {
          "base_uri": "https://localhost:8080/"
        },
        "id": "yRe4nzxxw66y",
        "outputId": "b1836f8b-aadf-4975-f3a9-5df2ba67c4ff"
      },
      "source": [
        "from krwordrank.sentence import summarize_with_sentences\r\n",
        "\r\n",
        "stopword= {'지영','있는','있다','지난','모습이','피망이','씨는','라고','비루는'}\r\n",
        "\r\n",
        "keywords,sents = summarize_with_sentences(\r\n",
        "    texts,\r\n",
        "    stopwords = stopword,\r\n",
        "    diversity=0.5,\r\n",
        "    num_keywords=10,\r\n",
        "    num_keysents=10,\r\n",
        "    verbose=True\r\n",
        ")\r\n",
        "\r\n",
        "for word,r in sorted(keywords.items(), key=lambda x:x[1], reverse=True)[:30]:\r\n",
        "    print('%8s:\\t%.4f'%(word,r))"
      ],
      "execution_count": 29,
      "outputs": [
        {
          "output_type": "stream",
          "text": [
            "scan vocabs ... \n",
            "num vocabs = 3374\n",
            "done\n",
            "     고양이:\t6.2810\n",
            "      함께:\t6.0518\n",
            "      사진:\t4.9017\n",
            "     노트펫:\t4.7950\n",
            "      너무:\t4.4509\n",
            "     구름이:\t4.2870\n",
            "  하이파이브를:\t3.9131\n",
            "      보호:\t3.6818\n",
            "      하고:\t3.6626\n",
            "     반려견:\t3.5967\n"
          ],
          "name": "stdout"
        }
      ]
    },
    {
      "cell_type": "code",
      "metadata": {
        "colab": {
          "base_uri": "https://localhost:8080/"
        },
        "id": "N9QDlNrcvDqC",
        "outputId": "32b2b0fd-7529-4df0-b714-6a9f7d1a53c4"
      },
      "source": [
        "wordrank_extractor = KRWordRank(\r\n",
        "    min_count=2,\r\n",
        "    max_length=10,\r\n",
        "    verbose=True\r\n",
        ")\r\n",
        "\r\n",
        "beta = 0.85\r\n",
        "max_iter=10\r\n",
        "\r\n",
        "keywords,rank,graph = wordrank_extractor.extract(texts,beta,max_iter)\r\n",
        "\r\n",
        "for word,r in sorted(keywords.items(), key=lambda x:x[1], reverse=True)[:30]:\r\n",
        "    print('%8s:\\t%.4f'%(word,r))"
      ],
      "execution_count": 30,
      "outputs": [
        {
          "output_type": "stream",
          "text": [
            "scan vocabs ... \n",
            "num vocabs = 3374\n",
            "done\n",
            "     고양이:\t6.2810\n",
            "      함께:\t6.0518\n",
            "      있는:\t5.6177\n",
            "      사진:\t4.9017\n",
            "      지영:\t4.8776\n",
            "     피망이:\t4.8432\n",
            "     노트펫:\t4.7950\n",
            "      있다:\t4.6943\n",
            "      지난:\t4.5941\n",
            "     모습이:\t4.4666\n",
            "      너무:\t4.4509\n",
            "     구름이:\t4.2870\n",
            "      씨는:\t4.1788\n",
            "     비루는:\t4.1394\n",
            "  하이파이브를:\t3.9131\n",
            "      라고:\t3.7983\n",
            "      보호:\t3.6818\n",
            "      하고:\t3.6626\n",
            "     반려견:\t3.5967\n",
            "      멤버:\t3.5172\n",
            "      앉아:\t3.3853\n",
            "     그녀는:\t3.3090\n",
            "      집사:\t3.2763\n",
            "      녀석:\t3.1739\n",
            "      엄마:\t3.1374\n",
            "     출동한:\t3.1190\n",
            "      하는:\t2.9829\n",
            "     보였다:\t2.9691\n",
            "      뽀뽀:\t2.8984\n",
            "      콜레:\t2.8561\n"
          ],
          "name": "stdout"
        }
      ]
    }
  ]
}